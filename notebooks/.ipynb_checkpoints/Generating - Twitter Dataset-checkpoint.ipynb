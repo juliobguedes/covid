{
 "cells": [
  {
   "cell_type": "code",
   "execution_count": 1,
   "metadata": {},
   "outputs": [],
   "source": [
    "import numpy as np\n",
    "import pandas as pd\n",
    "import os, sys, json\n",
    "import twint\n",
    "import nest_asyncio"
   ]
  },
  {
   "cell_type": "code",
   "execution_count": 2,
   "metadata": {},
   "outputs": [],
   "source": [
    "nest_asyncio.apply()\n",
    "\n",
    "datapath = '../data/twitter_data'"
   ]
  },
  {
   "cell_type": "code",
   "execution_count": 3,
   "metadata": {},
   "outputs": [],
   "source": [
    "def tweets2df(tweets, country):\n",
    "    def tweet2json(tweet):\n",
    "        return {\n",
    "            'id': tweet.id,\n",
    "            'datestamp': tweet.datestamp,\n",
    "            'timestamp': tweet.timestamp,\n",
    "            'username': tweet.username,\n",
    "            'tweet': tweet.tweet,\n",
    "            'replies_count': tweet.replies_count,\n",
    "            'retweets_count': tweet.retweets_count,\n",
    "            'likes_count': tweet.likes_count,\n",
    "            'url': tweet.link,\n",
    "            'country': country\n",
    "        }\n",
    "    \n",
    "    jsons = [tweet2json(tweet) for tweet in tweets]\n",
    "    df = pd.DataFrame(jsons)\n",
    "    return df"
   ]
  },
  {
   "cell_type": "code",
   "execution_count": 4,
   "metadata": {},
   "outputs": [],
   "source": [
    "def config_twint(username, since='2020-01-22'):\n",
    "    twint.output.tweets_list = []\n",
    "    tw = twint.Config()\n",
    "    tw.Username = newspaper\n",
    "    tw.Since = '2020-01-22'\n",
    "    tw.Store_object = True\n",
    "    tw.Stats = True\n",
    "    tw.Hide_output = True\n",
    "    return tw"
   ]
  },
  {
   "cell_type": "code",
   "execution_count": 10,
   "metadata": {},
   "outputs": [],
   "source": [
    "def create(country, newspaper):\n",
    "    \"\"\"\n",
    "    \"\"\"\n",
    "    print(f'Creating {newspaper} of {country}')\n",
    "    dfname = f'{country}_{newspaper}.tsv'\n",
    "    tw = config_twint(newspaper)\n",
    "\n",
    "    twint.run.Search(tw)\n",
    "\n",
    "    df = tweets2df(twint.output.tweets_list, country)\n",
    "    if (dfname == 'China_chinaorgcn.tsv'):\n",
    "        df.to_json(f'{datapath}/{dfname}')\n",
    "    else:\n",
    "        df.to_csv(f'{datapath}/{dfname}', sep='\\t\\t', index=False)\n",
    "\n",
    "def update(country, newspaper):\n",
    "    \"\"\"\n",
    "    \"\"\"\n",
    "    print(f'Updating {newspaper} of {country}')\n",
    "    dfname = f'{country}_{newspaper}.tsv'\n",
    "    past = pd.read_csv(f'{datapath}/{dfname}', sep='\\t', engine='python')\n",
    "    most_recent = past['datestamp'][0] + \" \" + past['timestamp'][0] \n",
    "    \n",
    "    tw = config_twint(newspaper, most_recent)\n",
    "    twint.run.Search(tw)\n",
    "\n",
    "    df = tweets2df(twint.output.tweets_list, country)\n",
    "    df = pd.concat([df, past], ignore_index=True)\n",
    "    df.to_csv(f'{datapath}/{dfname}', sep='\\t', index=False)"
   ]
  },
  {
   "cell_type": "code",
   "execution_count": 6,
   "metadata": {},
   "outputs": [],
   "source": [
    "countries = {\n",
    "    'US': ['cnn', 'nytimes', 'huffpost', 'FoxNews'],\n",
    "    'Brazil': ['g1', 'folha', 'Estadao', 'JornalOGlobo', 'JornaldoBrasil'],\n",
    "    'Italy': ['repubblica', 'Corriere', 'Libero_official', 'virgilio_it'],\n",
    "    'UK': ['BBCNews', 'guardian', 'MailOnline', 'Telegraph'],\n",
    "    'China': ['ChinaDaily', 'PDChina', 'shanghaidaily', 'chinaorgcn']\n",
    "}"
   ]
  },
  {
   "cell_type": "code",
   "execution_count": 7,
   "metadata": {},
   "outputs": [],
   "source": [
    "fields = ['id', 'datestamp, timestamp', 'username', 'tweet', 'replies_count', 'retweets_count', 'likes_count', 'url']\n",
    "formatted = '\"' + \"\\t\".join(['{' + field + '}' for field in fields]) + '\"'"
   ]
  },
  {
   "cell_type": "code",
   "execution_count": 11,
   "metadata": {},
   "outputs": [
    {
     "name": "stdout",
     "output_type": "stream",
     "text": [
      "Creating chinaorgcn of China\n"
     ]
    },
    {
     "ename": "TypeError",
     "evalue": "\"delimiter\" must be a 1-character string",
     "output_type": "error",
     "traceback": [
      "\u001b[0;31m---------------------------------------------------------------------------\u001b[0m",
      "\u001b[0;31mTypeError\u001b[0m                                 Traceback (most recent call last)",
      "\u001b[0;32m<ipython-input-11-39d409c6519d>\u001b[0m in \u001b[0;36m<module>\u001b[0;34m\u001b[0m\n\u001b[1;32m      8\u001b[0m             \u001b[0mupdate\u001b[0m\u001b[0;34m(\u001b[0m\u001b[0mcountry\u001b[0m\u001b[0;34m,\u001b[0m \u001b[0mnewspaper\u001b[0m\u001b[0;34m)\u001b[0m\u001b[0;34m\u001b[0m\u001b[0;34m\u001b[0m\u001b[0m\n\u001b[1;32m      9\u001b[0m         \u001b[0;32melse\u001b[0m\u001b[0;34m:\u001b[0m\u001b[0;34m\u001b[0m\u001b[0;34m\u001b[0m\u001b[0m\n\u001b[0;32m---> 10\u001b[0;31m             \u001b[0mcreate\u001b[0m\u001b[0;34m(\u001b[0m\u001b[0mcountry\u001b[0m\u001b[0;34m,\u001b[0m \u001b[0mnewspaper\u001b[0m\u001b[0;34m)\u001b[0m\u001b[0;34m\u001b[0m\u001b[0;34m\u001b[0m\u001b[0m\n\u001b[0m\u001b[1;32m     11\u001b[0m \u001b[0;34m\u001b[0m\u001b[0m\n\u001b[1;32m     12\u001b[0m \u001b[0mprint\u001b[0m\u001b[0;34m(\u001b[0m\u001b[0;34m'done'\u001b[0m\u001b[0;34m)\u001b[0m\u001b[0;34m\u001b[0m\u001b[0;34m\u001b[0m\u001b[0m\n",
      "\u001b[0;32m<ipython-input-10-4b8cb23c716b>\u001b[0m in \u001b[0;36mcreate\u001b[0;34m(country, newspaper)\u001b[0m\n\u001b[1;32m      9\u001b[0m \u001b[0;34m\u001b[0m\u001b[0m\n\u001b[1;32m     10\u001b[0m     \u001b[0mdf\u001b[0m \u001b[0;34m=\u001b[0m \u001b[0mtweets2df\u001b[0m\u001b[0;34m(\u001b[0m\u001b[0mtwint\u001b[0m\u001b[0;34m.\u001b[0m\u001b[0moutput\u001b[0m\u001b[0;34m.\u001b[0m\u001b[0mtweets_list\u001b[0m\u001b[0;34m,\u001b[0m \u001b[0mcountry\u001b[0m\u001b[0;34m)\u001b[0m\u001b[0;34m\u001b[0m\u001b[0;34m\u001b[0m\u001b[0m\n\u001b[0;32m---> 11\u001b[0;31m     \u001b[0mdf\u001b[0m\u001b[0;34m.\u001b[0m\u001b[0mto_csv\u001b[0m\u001b[0;34m(\u001b[0m\u001b[0;34mf'{datapath}/{dfname}'\u001b[0m\u001b[0;34m,\u001b[0m \u001b[0msep\u001b[0m\u001b[0;34m=\u001b[0m\u001b[0;34m'\\t\\t'\u001b[0m\u001b[0;34m,\u001b[0m \u001b[0mindex\u001b[0m\u001b[0;34m=\u001b[0m\u001b[0;32mFalse\u001b[0m\u001b[0;34m)\u001b[0m\u001b[0;34m\u001b[0m\u001b[0;34m\u001b[0m\u001b[0m\n\u001b[0m\u001b[1;32m     12\u001b[0m \u001b[0;34m\u001b[0m\u001b[0m\n\u001b[1;32m     13\u001b[0m \u001b[0;32mdef\u001b[0m \u001b[0mupdate\u001b[0m\u001b[0;34m(\u001b[0m\u001b[0mcountry\u001b[0m\u001b[0;34m,\u001b[0m \u001b[0mnewspaper\u001b[0m\u001b[0;34m)\u001b[0m\u001b[0;34m:\u001b[0m\u001b[0;34m\u001b[0m\u001b[0;34m\u001b[0m\u001b[0m\n",
      "\u001b[0;32m~/anaconda3/envs/covid/lib/python3.6/site-packages/pandas/core/generic.py\u001b[0m in \u001b[0;36mto_csv\u001b[0;34m(self, path_or_buf, sep, na_rep, float_format, columns, header, index, index_label, mode, encoding, compression, quoting, quotechar, line_terminator, chunksize, date_format, doublequote, escapechar, decimal)\u001b[0m\n\u001b[1;32m   3202\u001b[0m             \u001b[0mdecimal\u001b[0m\u001b[0;34m=\u001b[0m\u001b[0mdecimal\u001b[0m\u001b[0;34m,\u001b[0m\u001b[0;34m\u001b[0m\u001b[0;34m\u001b[0m\u001b[0m\n\u001b[1;32m   3203\u001b[0m         )\n\u001b[0;32m-> 3204\u001b[0;31m         \u001b[0mformatter\u001b[0m\u001b[0;34m.\u001b[0m\u001b[0msave\u001b[0m\u001b[0;34m(\u001b[0m\u001b[0;34m)\u001b[0m\u001b[0;34m\u001b[0m\u001b[0;34m\u001b[0m\u001b[0m\n\u001b[0m\u001b[1;32m   3205\u001b[0m \u001b[0;34m\u001b[0m\u001b[0m\n\u001b[1;32m   3206\u001b[0m         \u001b[0;32mif\u001b[0m \u001b[0mpath_or_buf\u001b[0m \u001b[0;32mis\u001b[0m \u001b[0;32mNone\u001b[0m\u001b[0;34m:\u001b[0m\u001b[0;34m\u001b[0m\u001b[0;34m\u001b[0m\u001b[0m\n",
      "\u001b[0;32m~/anaconda3/envs/covid/lib/python3.6/site-packages/pandas/io/formats/csvs.py\u001b[0m in \u001b[0;36msave\u001b[0;34m(self)\u001b[0m\n\u001b[1;32m    199\u001b[0m                 \u001b[0mdoublequote\u001b[0m\u001b[0;34m=\u001b[0m\u001b[0mself\u001b[0m\u001b[0;34m.\u001b[0m\u001b[0mdoublequote\u001b[0m\u001b[0;34m,\u001b[0m\u001b[0;34m\u001b[0m\u001b[0;34m\u001b[0m\u001b[0m\n\u001b[1;32m    200\u001b[0m                 \u001b[0mescapechar\u001b[0m\u001b[0;34m=\u001b[0m\u001b[0mself\u001b[0m\u001b[0;34m.\u001b[0m\u001b[0mescapechar\u001b[0m\u001b[0;34m,\u001b[0m\u001b[0;34m\u001b[0m\u001b[0;34m\u001b[0m\u001b[0m\n\u001b[0;32m--> 201\u001b[0;31m                 \u001b[0mquotechar\u001b[0m\u001b[0;34m=\u001b[0m\u001b[0mself\u001b[0m\u001b[0;34m.\u001b[0m\u001b[0mquotechar\u001b[0m\u001b[0;34m,\u001b[0m\u001b[0;34m\u001b[0m\u001b[0;34m\u001b[0m\u001b[0m\n\u001b[0m\u001b[1;32m    202\u001b[0m             )\n\u001b[1;32m    203\u001b[0m \u001b[0;34m\u001b[0m\u001b[0m\n",
      "\u001b[0;31mTypeError\u001b[0m: \"delimiter\" must be a 1-character string"
     ]
    }
   ],
   "source": [
    "for country in countries.keys():\n",
    "    if (country in ['US', 'Brazil', 'Italy', 'UK']): continue\n",
    "    newspapers = countries[country]\n",
    "    for newspaper in newspapers:\n",
    "        if newspaper != 'chinaorgcn': continue\n",
    "        dfname = f'{country}_{newspaper}.tsv'\n",
    "        if dfname in os.listdir(datapath) and False:\n",
    "            update(country, newspaper)\n",
    "        else:\n",
    "            create(country, newspaper)\n",
    "    \n",
    "print('done')"
   ]
  },
  {
   "cell_type": "code",
   "execution_count": null,
   "metadata": {},
   "outputs": [],
   "source": [
    "\"\"\"\n",
    "for country in countries.keys():\n",
    "    newspapers = countries[country]\n",
    "    for newspaper in newspapers:\n",
    "        dfname = f'{country}_{newspaper}.tsv'\n",
    "        df = pd.read_csv(f'{datapath}/{dfname}', sep='\\t', engine='python')\n",
    "        df.drop_duplicates(subset='id', keep=False, inplace=True)\n",
    "        df.to_csv(f'{datapath}/{dfname}', sep='\\t', index=False)\n",
    "\"\"\""
   ]
  },
  {
   "cell_type": "code",
   "execution_count": 17,
   "metadata": {},
   "outputs": [],
   "source": [
    "df = tweets2df(twint.output.tweets_list, country)\n",
    "df.to_json(f'{datapath}/{dfname}')"
   ]
  },
  {
   "cell_type": "code",
   "execution_count": 18,
   "metadata": {},
   "outputs": [
    {
     "data": {
      "text/html": [
       "<div>\n",
       "<style scoped>\n",
       "    .dataframe tbody tr th:only-of-type {\n",
       "        vertical-align: middle;\n",
       "    }\n",
       "\n",
       "    .dataframe tbody tr th {\n",
       "        vertical-align: top;\n",
       "    }\n",
       "\n",
       "    .dataframe thead th {\n",
       "        text-align: right;\n",
       "    }\n",
       "</style>\n",
       "<table border=\"1\" class=\"dataframe\">\n",
       "  <thead>\n",
       "    <tr style=\"text-align: right;\">\n",
       "      <th></th>\n",
       "      <th>id</th>\n",
       "      <th>datestamp</th>\n",
       "      <th>timestamp</th>\n",
       "      <th>username</th>\n",
       "      <th>tweet</th>\n",
       "      <th>replies_count</th>\n",
       "      <th>retweets_count</th>\n",
       "      <th>likes_count</th>\n",
       "      <th>url</th>\n",
       "      <th>country</th>\n",
       "    </tr>\n",
       "  </thead>\n",
       "  <tbody>\n",
       "    <tr>\n",
       "      <th>0</th>\n",
       "      <td>1244502032523771904</td>\n",
       "      <td>2020-03-30</td>\n",
       "      <td>02:49:40</td>\n",
       "      <td>chinaorgcn</td>\n",
       "      <td>[Video] Cloisonné - The 'Blue Jewel' in the ro...</td>\n",
       "      <td>1</td>\n",
       "      <td>1</td>\n",
       "      <td>8</td>\n",
       "      <td>https://twitter.com/chinaorgcn/status/12445020...</td>\n",
       "      <td>China</td>\n",
       "    </tr>\n",
       "    <tr>\n",
       "      <th>1</th>\n",
       "      <td>1244475851900465152</td>\n",
       "      <td>2020-03-30</td>\n",
       "      <td>01:05:38</td>\n",
       "      <td>chinaorgcn</td>\n",
       "      <td>Opinion: Political considerations behind US co...</td>\n",
       "      <td>2</td>\n",
       "      <td>2</td>\n",
       "      <td>10</td>\n",
       "      <td>https://twitter.com/chinaorgcn/status/12444758...</td>\n",
       "      <td>China</td>\n",
       "    </tr>\n",
       "    <tr>\n",
       "      <th>2</th>\n",
       "      <td>1244445883879456768</td>\n",
       "      <td>2020-03-29</td>\n",
       "      <td>23:06:34</td>\n",
       "      <td>chinaorgcn</td>\n",
       "      <td>Small businesses in Beijing seek to adapt amid...</td>\n",
       "      <td>2</td>\n",
       "      <td>6</td>\n",
       "      <td>32</td>\n",
       "      <td>https://twitter.com/chinaorgcn/status/12444458...</td>\n",
       "      <td>China</td>\n",
       "    </tr>\n",
       "    <tr>\n",
       "      <th>3</th>\n",
       "      <td>1244132958740475905</td>\n",
       "      <td>2020-03-29</td>\n",
       "      <td>02:23:06</td>\n",
       "      <td>chinaorgcn</td>\n",
       "      <td>Wuhan deserves to be on the tourist bucket lis...</td>\n",
       "      <td>67</td>\n",
       "      <td>40</td>\n",
       "      <td>175</td>\n",
       "      <td>https://twitter.com/chinaorgcn/status/12441329...</td>\n",
       "      <td>China</td>\n",
       "    </tr>\n",
       "    <tr>\n",
       "      <th>4</th>\n",
       "      <td>1244126977126105089</td>\n",
       "      <td>2020-03-29</td>\n",
       "      <td>01:59:20</td>\n",
       "      <td>chinaorgcn</td>\n",
       "      <td>Normal life in Wuhan gradually resumes  https:...</td>\n",
       "      <td>9</td>\n",
       "      <td>21</td>\n",
       "      <td>67</td>\n",
       "      <td>https://twitter.com/chinaorgcn/status/12441269...</td>\n",
       "      <td>China</td>\n",
       "    </tr>\n",
       "  </tbody>\n",
       "</table>\n",
       "</div>"
      ],
      "text/plain": [
       "                    id   datestamp timestamp    username  \\\n",
       "0  1244502032523771904  2020-03-30  02:49:40  chinaorgcn   \n",
       "1  1244475851900465152  2020-03-30  01:05:38  chinaorgcn   \n",
       "2  1244445883879456768  2020-03-29  23:06:34  chinaorgcn   \n",
       "3  1244132958740475905  2020-03-29  02:23:06  chinaorgcn   \n",
       "4  1244126977126105089  2020-03-29  01:59:20  chinaorgcn   \n",
       "\n",
       "                                               tweet replies_count  \\\n",
       "0  [Video] Cloisonné - The 'Blue Jewel' in the ro...             1   \n",
       "1  Opinion: Political considerations behind US co...             2   \n",
       "2  Small businesses in Beijing seek to adapt amid...             2   \n",
       "3  Wuhan deserves to be on the tourist bucket lis...            67   \n",
       "4  Normal life in Wuhan gradually resumes  https:...             9   \n",
       "\n",
       "  retweets_count likes_count  \\\n",
       "0              1           8   \n",
       "1              2          10   \n",
       "2              6          32   \n",
       "3             40         175   \n",
       "4             21          67   \n",
       "\n",
       "                                                 url country  \n",
       "0  https://twitter.com/chinaorgcn/status/12445020...   China  \n",
       "1  https://twitter.com/chinaorgcn/status/12444758...   China  \n",
       "2  https://twitter.com/chinaorgcn/status/12444458...   China  \n",
       "3  https://twitter.com/chinaorgcn/status/12441329...   China  \n",
       "4  https://twitter.com/chinaorgcn/status/12441269...   China  "
      ]
     },
     "execution_count": 18,
     "metadata": {},
     "output_type": "execute_result"
    }
   ],
   "source": [
    "df.head()"
   ]
  },
  {
   "cell_type": "code",
   "execution_count": 14,
   "metadata": {},
   "outputs": [
    {
     "data": {
      "text/plain": [
       "'China_chinaorgcn.tsv'"
      ]
     },
     "execution_count": 14,
     "metadata": {},
     "output_type": "execute_result"
    }
   ],
   "source": [
    "dfname"
   ]
  },
  {
   "cell_type": "code",
   "execution_count": null,
   "metadata": {},
   "outputs": [],
   "source": []
  }
 ],
 "metadata": {
  "kernelspec": {
   "display_name": "Python [conda env:covid]",
   "language": "python",
   "name": "conda-env-covid-py"
  },
  "language_info": {
   "codemirror_mode": {
    "name": "ipython",
    "version": 3
   },
   "file_extension": ".py",
   "mimetype": "text/x-python",
   "name": "python",
   "nbconvert_exporter": "python",
   "pygments_lexer": "ipython3",
   "version": "3.6.10"
  }
 },
 "nbformat": 4,
 "nbformat_minor": 4
}
