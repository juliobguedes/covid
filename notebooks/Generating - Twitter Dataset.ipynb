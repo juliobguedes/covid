{
 "cells": [
  {
   "cell_type": "code",
   "execution_count": 1,
   "metadata": {},
   "outputs": [],
   "source": [
    "import numpy as np\n",
    "import pandas as pd\n",
    "import os, sys, json\n",
    "import twint\n",
    "import nest_asyncio"
   ]
  },
  {
   "cell_type": "code",
   "execution_count": 2,
   "metadata": {},
   "outputs": [],
   "source": [
    "nest_asyncio.apply()\n",
    "\n",
    "datapath = '../data/twitter_data'"
   ]
  },
  {
   "cell_type": "code",
   "execution_count": 3,
   "metadata": {},
   "outputs": [],
   "source": [
    "def tweets2df(tweets, country):\n",
    "    def tweet2json(tweet):\n",
    "        return {\n",
    "            'id': tweet.id,\n",
    "            'datestamp': tweet.datestamp,\n",
    "            'timestamp': tweet.timestamp,\n",
    "            'username': tweet.username,\n",
    "            'tweet': tweet.tweet,\n",
    "            'replies_count': tweet.replies_count,\n",
    "            'retweets_count': tweet.retweets_count,\n",
    "            'likes_count': tweet.likes_count,\n",
    "            'url': tweet.link,\n",
    "            'country': country\n",
    "        }\n",
    "    \n",
    "    jsons = [tweet2json(tweet) for tweet in tweets]\n",
    "    df = pd.DataFrame(jsons)\n",
    "    return df"
   ]
  },
  {
   "cell_type": "code",
   "execution_count": 4,
   "metadata": {},
   "outputs": [],
   "source": [
    "def config_twint(username, since='2020-01-22'):\n",
    "    twint.output.tweets_list = []\n",
    "    tw = twint.Config()\n",
    "    tw.Username = newspaper\n",
    "    tw.Since = '2020-01-22'\n",
    "    tw.Store_object = True\n",
    "    tw.Stats = True\n",
    "    tw.Hide_output = True\n",
    "    return tw"
   ]
  },
  {
   "cell_type": "code",
   "execution_count": 9,
   "metadata": {},
   "outputs": [],
   "source": [
    "def create(country, newspaper):\n",
    "    \"\"\"\n",
    "    \"\"\"\n",
    "    print(f'Creating {newspaper} of {country}')\n",
    "    dfname = f'{country}_{newspaper}.tsv'\n",
    "    tw = config_twint(newspaper)\n",
    "\n",
    "    twint.run.Search(tw)\n",
    "\n",
    "    df = tweets2df(twint.output.tweets_list, country)\n",
    "    if (dfname == 'China_chinaorgcn.tsv'):\n",
    "        df.to_json(f'{datapath}/{dfname}')\n",
    "    else:\n",
    "        df.to_csv(f'{datapath}/{dfname}', sep='\\t', index=False)\n",
    "\n",
    "def update(country, newspaper):\n",
    "    \"\"\"\n",
    "    \"\"\"\n",
    "    print(f'Updating {newspaper} of {country}')\n",
    "    dfname = f'{country}_{newspaper}.tsv'\n",
    "    past = pd.read_csv(f'{datapath}/{dfname}', sep='\\t', engine='python')\n",
    "    most_recent = past['datestamp'][0] + \" \" + past['timestamp'][0] \n",
    "    \n",
    "    tw = config_twint(newspaper, most_recent)\n",
    "    twint.run.Search(tw)\n",
    "\n",
    "    df = tweets2df(twint.output.tweets_list, country)\n",
    "    df = pd.concat([df, past], ignore_index=True)\n",
    "    df.to_csv(f'{datapath}/{dfname}', sep='\\t', index=False)"
   ]
  },
  {
   "cell_type": "code",
   "execution_count": 6,
   "metadata": {},
   "outputs": [],
   "source": [
    "countries = {\n",
    "    'US': ['cnn', 'nytimes', 'huffpost', 'FoxNews'],\n",
    "    'Brazil': ['g1', 'folha', 'Estadao', 'JornalOGlobo', 'JornaldoBrasil'],\n",
    "    'Italy': ['repubblica', 'Corriere', 'Libero_official', 'virgilio_it'],\n",
    "    'UK': ['BBCNews', 'guardian', 'MailOnline', 'Telegraph'],\n",
    "    'China': ['ChinaDaily', 'PDChina', 'shanghaidaily', 'chinaorgcn']\n",
    "}"
   ]
  },
  {
   "cell_type": "code",
   "execution_count": 7,
   "metadata": {},
   "outputs": [],
   "source": [
    "fields = ['id', 'datestamp, timestamp', 'username', 'tweet', 'replies_count', 'retweets_count', 'likes_count', 'url']\n",
    "formatted = '\"' + \"\\t\".join(['{' + field + '}' for field in fields]) + '\"'"
   ]
  },
  {
   "cell_type": "code",
   "execution_count": 10,
   "metadata": {},
   "outputs": [
    {
     "name": "stdout",
     "output_type": "stream",
     "text": [
      "Creating ChinaDaily of China\n",
      "Creating PDChina of China\n",
      "Creating shanghaidaily of China\n",
      "Creating chinaorgcn of China\n",
      "done\n"
     ]
    }
   ],
   "source": [
    "for country in countries.keys():\n",
    "    if (country != 'China'): continue\n",
    "    newspapers = countries[country]\n",
    "    for newspaper in newspapers:\n",
    "        dfname = f'{country}_{newspaper}.tsv'\n",
    "        if dfname in os.listdir(datapath) and False:\n",
    "            update(country, newspaper)\n",
    "        else:\n",
    "            create(country, newspaper)\n",
    "    \n",
    "print('done')"
   ]
  },
  {
   "cell_type": "code",
   "execution_count": null,
   "metadata": {},
   "outputs": [],
   "source": [
    "\"\"\"\n",
    "for country in countries.keys():\n",
    "    newspapers = countries[country]\n",
    "    for newspaper in newspapers:\n",
    "        dfname = f'{country}_{newspaper}.tsv'\n",
    "        df = pd.read_csv(f'{datapath}/{dfname}', sep='\\t', engine='python')\n",
    "        df.drop_duplicates(subset='id', keep=False, inplace=True)\n",
    "        df.to_csv(f'{datapath}/{dfname}', sep='\\t', index=False)\n",
    "\"\"\""
   ]
  },
  {
   "cell_type": "code",
   "execution_count": null,
   "metadata": {},
   "outputs": [],
   "source": [
    "df = tweets2df(twint.output.tweets_list, country)\n",
    "df.to_json(f'{datapath}/{dfname}')"
   ]
  },
  {
   "cell_type": "code",
   "execution_count": null,
   "metadata": {},
   "outputs": [],
   "source": [
    "df.head()"
   ]
  },
  {
   "cell_type": "code",
   "execution_count": null,
   "metadata": {},
   "outputs": [],
   "source": [
    "dfname"
   ]
  },
  {
   "cell_type": "code",
   "execution_count": null,
   "metadata": {},
   "outputs": [],
   "source": []
  }
 ],
 "metadata": {
  "kernelspec": {
   "display_name": "Python [conda env:covid]",
   "language": "python",
   "name": "conda-env-covid-py"
  },
  "language_info": {
   "codemirror_mode": {
    "name": "ipython",
    "version": 3
   },
   "file_extension": ".py",
   "mimetype": "text/x-python",
   "name": "python",
   "nbconvert_exporter": "python",
   "pygments_lexer": "ipython3",
   "version": "3.6.10"
  }
 },
 "nbformat": 4,
 "nbformat_minor": 4
}
