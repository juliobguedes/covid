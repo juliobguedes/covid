{
 "cells": [
  {
   "cell_type": "code",
   "execution_count": 1,
   "metadata": {},
   "outputs": [],
   "source": [
    "import numpy as np\n",
    "import pandas as pd\n",
    "import os, sys, json\n",
    "import twint\n",
    "import nest_asyncio\n",
    "nest_asyncio.apply()"
   ]
  },
  {
   "cell_type": "code",
   "execution_count": 2,
   "metadata": {},
   "outputs": [],
   "source": [
    "def tweets2df(tweets, country):\n",
    "    def tweet2json(tweet):\n",
    "        return {\n",
    "            'id': tweet.id,\n",
    "            'timestamp': tweet.timestamp,\n",
    "            'username': tweet.username,\n",
    "            'tweet': tweet.tweet,\n",
    "            'replies_count': tweet.replies_count,\n",
    "            'retweets_count': tweet.retweets_count,\n",
    "            'likes_count': tweet.likes_count,\n",
    "            'url': tweet.link,\n",
    "            'country': country\n",
    "        }\n",
    "    \n",
    "    jsons = [tweet2json(tweet) for tweet in tweets]\n",
    "    df = pd.DataFrame(jsons)\n",
    "    return df"
   ]
  },
  {
   "cell_type": "code",
   "execution_count": 3,
   "metadata": {},
   "outputs": [],
   "source": [
    "countries = {\n",
    "    'US': ['cnn', 'nytimes', 'huffpost', 'FoxNews'],\n",
    "    'Brazil': ['g1', 'folha', 'Estadao', 'JornalOGlobo', 'JornaldoBrasil'],\n",
    "    'Italy': ['repubblica', 'Corriere', 'Libero_official', 'virgilio_it'],\n",
    "    'UK': ['BBCNews', 'guardian', 'MailOnline', 'Telegraph'],\n",
    "    'China': ['ChinaDaily', 'PDChina', 'shanghaidaily', 'chinaorgcn']\n",
    "}"
   ]
  },
  {
   "cell_type": "code",
   "execution_count": 4,
   "metadata": {},
   "outputs": [],
   "source": [
    "fields = ['id', 'timestamp', 'username', 'tweet', 'replies_count', 'retweets_count', 'likes_count', 'url']\n",
    "formatted = '\"' + \"\\t\".join(['{' + field + '}' for field in fields]) + '\"'"
   ]
  },
  {
   "cell_type": "code",
   "execution_count": 6,
   "metadata": {},
   "outputs": [
    {
     "name": "stdout",
     "output_type": "stream",
     "text": [
      "cnn of US was skipped.\n",
      "nytimes of US was skipped.\n",
      "huffpost of US was skipped.\n",
      "FoxNews of US was skipped.\n",
      "g1 of Brazil was skipped.\n",
      "folha of Brazil was skipped.\n",
      "Estadao of Brazil was skipped.\n",
      "JornalOGlobo of Brazil was skipped.\n",
      "JornaldoBrasil of Brazil was skipped.\n",
      "repubblica of Italy was skipped.\n",
      "Corriere of Italy was skipped.\n",
      "Libero_official of Italy was skipped.\n",
      "virgilio_it of Italy was skipped.\n",
      "BBCNews of UK was skipped.\n",
      "Running guardian of UK\n",
      "Running MailOnline of UK\n",
      "Running Telegraph of UK\n",
      "Running ChinaDaily of China\n",
      "Running PDChina of China\n",
      "Running shanghaidaily of China\n",
      "Running chinaorgcn of China\n"
     ]
    },
    {
     "ename": "NameError",
     "evalue": "name 'result' is not defined",
     "output_type": "error",
     "traceback": [
      "\u001b[0;31m---------------------------------------------------------------------------\u001b[0m",
      "\u001b[0;31mNameError\u001b[0m                                 Traceback (most recent call last)",
      "\u001b[0;32m<ipython-input-6-ce1e2767c5e6>\u001b[0m in \u001b[0;36m<module>\u001b[0;34m\u001b[0m\n\u001b[1;32m     22\u001b[0m         \u001b[0mdf\u001b[0m\u001b[0;34m.\u001b[0m\u001b[0mto_csv\u001b[0m\u001b[0;34m(\u001b[0m\u001b[0;34mf'../data/twitter_data/{dfname}'\u001b[0m\u001b[0;34m,\u001b[0m \u001b[0msep\u001b[0m\u001b[0;34m=\u001b[0m\u001b[0;34m'\\t'\u001b[0m\u001b[0;34m)\u001b[0m\u001b[0;34m\u001b[0m\u001b[0;34m\u001b[0m\u001b[0m\n\u001b[1;32m     23\u001b[0m \u001b[0;34m\u001b[0m\u001b[0m\n\u001b[0;32m---> 24\u001b[0;31m \u001b[0mprint\u001b[0m\u001b[0;34m(\u001b[0m\u001b[0mresult\u001b[0m\u001b[0;34m)\u001b[0m\u001b[0;34m\u001b[0m\u001b[0;34m\u001b[0m\u001b[0m\n\u001b[0m",
      "\u001b[0;31mNameError\u001b[0m: name 'result' is not defined"
     ]
    }
   ],
   "source": [
    "datapath = '../data/twitter_data'\n",
    "\n",
    "for country in countries.keys():\n",
    "    newspapers = countries[country]\n",
    "    for newspaper in newspapers:\n",
    "        dfname = f'{country}_{newspaper}.tsv'\n",
    "        if dfname in os.listdir(datapath):\n",
    "            print(f'{newspaper} of {country} was skipped.')\n",
    "            continue\n",
    "            \n",
    "        print(f'Running {newspaper} of {country}')\n",
    "        tw = twint.Config()\n",
    "        tw.Username = newspaper\n",
    "        tw.Since = '2020-01-22'\n",
    "        tw.Store_object = True\n",
    "        tw.Stats = True\n",
    "        tw.Hide_output = True\n",
    "\n",
    "        twint.run.Search(tw)\n",
    "        \n",
    "        df = tweets2df(twint.output.tweets_list, country)\n",
    "        df.to_csv(f'../data/twitter_data/{dfname}', sep='\\t')\n",
    "    \n",
    "print(result)"
   ]
  },
  {
   "cell_type": "code",
   "execution_count": null,
   "metadata": {},
   "outputs": [],
   "source": []
  }
 ],
 "metadata": {
  "kernelspec": {
   "display_name": "Python [conda env:covid]",
   "language": "python",
   "name": "conda-env-covid-py"
  },
  "language_info": {
   "codemirror_mode": {
    "name": "ipython",
    "version": 3
   },
   "file_extension": ".py",
   "mimetype": "text/x-python",
   "name": "python",
   "nbconvert_exporter": "python",
   "pygments_lexer": "ipython3",
   "version": "3.6.10"
  }
 },
 "nbformat": 4,
 "nbformat_minor": 4
}
