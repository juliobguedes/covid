{
 "cells": [
  {
   "cell_type": "code",
   "execution_count": 1,
   "metadata": {},
   "outputs": [],
   "source": [
    "import numpy as np\n",
    "import pandas as pd\n",
    "import os, sys"
   ]
  },
  {
   "cell_type": "code",
   "execution_count": 2,
   "metadata": {},
   "outputs": [],
   "source": [
    "input_path = '../data/twitter_data'\n",
    "output_path = '../data/twitter_filtered'"
   ]
  },
  {
   "cell_type": "code",
   "execution_count": 29,
   "metadata": {},
   "outputs": [],
   "source": [
    "def score(row):\n",
    "    rts, reps, likes = map(float, [row['retweets_count'], row['replies_count'], row['likes_count']])\n",
    "    rts = rts if rts != np.nan else 0\n",
    "    reps = reps if reps != np.nan else 0\n",
    "    likes = likes if likes != np.nan else 0\n",
    "    score = 5 * rts + 4 * reps * 3 * likes\n",
    "    row['score'] = score\n",
    "    return row"
   ]
  },
  {
   "cell_type": "code",
   "execution_count": 30,
   "metadata": {},
   "outputs": [],
   "source": [
    "def includes_covid(row):\n",
    "    includes = False\n",
    "    keywords = ['covid', 'covid19', 'covid-19', 'virus',\n",
    "                'quarentena', 'quarantine', 'quarantena',\n",
    "                'corona', 'corona19', 'corona virus',\n",
    "                'coronavirus', 'coronavírus', 'coronavirus19',\n",
    "                'coronavírus19', 'positive', 'positivi',\n",
    "                'positivo', 'positives', 'positivos',\n",
    "                'cases', 'casos', 'caso', 'coronabond']\n",
    "    for keyword in keywords:\n",
    "        c = keyword in row['tweet'].lower()\n",
    "        includes = includes or c\n",
    "    row['includes'] = includes\n",
    "    return row"
   ]
  },
  {
   "cell_type": "code",
   "execution_count": 31,
   "metadata": {},
   "outputs": [],
   "source": [
    "total_related = 0\n",
    "total_unrelated = 0"
   ]
  },
  {
   "cell_type": "code",
   "execution_count": null,
   "metadata": {},
   "outputs": [
    {
     "name": "stdout",
     "output_type": "stream",
     "text": [
      "Italy_virgilio_it.tsv 0.5625 0.4375\n",
      "UK_BBCNews.tsv 0.2969529085872576 0.7030470914127424\n",
      "UK_Telegraph.tsv 0.4001850138760407 0.5998149861239593\n",
      "UK_guardian.tsv 0.2611497248769186 0.7388502751230813\n",
      "China_ChinaDaily.tsv 1.0 0.0\n",
      "Italy_repubblica.tsv 0.12805320435308343 0.8719467956469166\n"
     ]
    }
   ],
   "source": [
    "for filename in os.listdir(input_path):\n",
    "    if (filename == 'China_chinaorgch.tsv'):\n",
    "        df = pd.read_json(f'{input_path}/{filename}')\n",
    "    else:\n",
    "        df = pd.read_csv(f'{input_path}/{filename}', sep='\\t', engine='python')\n",
    "    df = df.apply(score, axis=1)\n",
    "    df = df.apply(includes_covid, axis=1)\n",
    "    \n",
    "    related = len(df[df.includes].reset_index(drop=True))\n",
    "    total_related += related / len(df)\n",
    "    \n",
    "    unrelated = len(df[~df.includes].reset_index(drop=True))\n",
    "    total_unrelated = unrelated / len(df)\n",
    "\n",
    "    print(filename, related / len(df), unrelated / len(df))"
   ]
  },
  {
   "cell_type": "code",
   "execution_count": null,
   "metadata": {},
   "outputs": [],
   "source": [
    "nfiles = len(os.listdir(input_path))\n",
    "print('Avg Related', total_related / nfiles, '; Avg Unrelated', total_unrelated / nfiles)"
   ]
  },
  {
   "cell_type": "code",
   "execution_count": 33,
   "metadata": {},
   "outputs": [
    {
     "data": {
      "text/plain": [
       "['Italy_virgilio_it.tsv',\n",
       " 'UK_BBCNews.tsv',\n",
       " 'UK_Telegraph.tsv',\n",
       " 'UK_guardian.tsv',\n",
       " 'China_ChinaDaily.tsv',\n",
       " 'Italy_repubblica.tsv',\n",
       " 'Brazil_Estadao.tsv',\n",
       " 'US_nytimes.tsv',\n",
       " 'Brazil_JornalOGlobo.tsv',\n",
       " 'Brazil_JornaldoBrasil.tsv',\n",
       " 'Italy_Corriere.tsv',\n",
       " 'China_PDChina.tsv',\n",
       " 'Italy_Libero_official.tsv',\n",
       " 'US_huffpost.tsv',\n",
       " 'US_cnn.tsv',\n",
       " 'China_chinaorgcn.tsv',\n",
       " 'US_FoxNews.tsv',\n",
       " 'China_shanghaidaily.tsv',\n",
       " 'Brazil_folha.tsv',\n",
       " 'UK_MailOnline.tsv',\n",
       " 'Brazil_g1.tsv']"
      ]
     },
     "execution_count": 33,
     "metadata": {},
     "output_type": "execute_result"
    }
   ],
   "source": [
    "os.listdir(input_path)"
   ]
  },
  {
   "cell_type": "code",
   "execution_count": 49,
   "metadata": {},
   "outputs": [],
   "source": [
    "df = pd.read_json(f'{input_path}/{filename}')\n"
   ]
  },
  {
   "cell_type": "code",
   "execution_count": 51,
   "metadata": {},
   "outputs": [
    {
     "data": {
      "text/html": [
       "<div>\n",
       "<style scoped>\n",
       "    .dataframe tbody tr th:only-of-type {\n",
       "        vertical-align: middle;\n",
       "    }\n",
       "\n",
       "    .dataframe tbody tr th {\n",
       "        vertical-align: top;\n",
       "    }\n",
       "\n",
       "    .dataframe thead th {\n",
       "        text-align: right;\n",
       "    }\n",
       "</style>\n",
       "<table border=\"1\" class=\"dataframe\">\n",
       "  <thead>\n",
       "    <tr style=\"text-align: right;\">\n",
       "      <th></th>\n",
       "      <th>id</th>\n",
       "      <th>datestamp</th>\n",
       "      <th>timestamp</th>\n",
       "      <th>username</th>\n",
       "      <th>tweet</th>\n",
       "      <th>replies_count</th>\n",
       "      <th>retweets_count</th>\n",
       "      <th>likes_count</th>\n",
       "      <th>url</th>\n",
       "      <th>country</th>\n",
       "    </tr>\n",
       "  </thead>\n",
       "  <tbody>\n",
       "    <tr>\n",
       "      <th>0</th>\n",
       "      <td>1244502032523771904</td>\n",
       "      <td>2020-03-30</td>\n",
       "      <td>2020-03-30 02:49:40</td>\n",
       "      <td>chinaorgcn</td>\n",
       "      <td>[Video] Cloisonné - The 'Blue Jewel' in the ro...</td>\n",
       "      <td>1</td>\n",
       "      <td>1</td>\n",
       "      <td>8</td>\n",
       "      <td>https://twitter.com/chinaorgcn/status/12445020...</td>\n",
       "      <td>China</td>\n",
       "    </tr>\n",
       "    <tr>\n",
       "      <th>1</th>\n",
       "      <td>1244475851900465152</td>\n",
       "      <td>2020-03-30</td>\n",
       "      <td>2020-03-30 01:05:38</td>\n",
       "      <td>chinaorgcn</td>\n",
       "      <td>Opinion: Political considerations behind US co...</td>\n",
       "      <td>2</td>\n",
       "      <td>2</td>\n",
       "      <td>10</td>\n",
       "      <td>https://twitter.com/chinaorgcn/status/12444758...</td>\n",
       "      <td>China</td>\n",
       "    </tr>\n",
       "    <tr>\n",
       "      <th>2</th>\n",
       "      <td>1244445883879456768</td>\n",
       "      <td>2020-03-29</td>\n",
       "      <td>2020-03-30 23:06:34</td>\n",
       "      <td>chinaorgcn</td>\n",
       "      <td>Small businesses in Beijing seek to adapt amid...</td>\n",
       "      <td>2</td>\n",
       "      <td>6</td>\n",
       "      <td>32</td>\n",
       "      <td>https://twitter.com/chinaorgcn/status/12444458...</td>\n",
       "      <td>China</td>\n",
       "    </tr>\n",
       "    <tr>\n",
       "      <th>3</th>\n",
       "      <td>1244132958740475905</td>\n",
       "      <td>2020-03-29</td>\n",
       "      <td>2020-03-30 02:23:06</td>\n",
       "      <td>chinaorgcn</td>\n",
       "      <td>Wuhan deserves to be on the tourist bucket lis...</td>\n",
       "      <td>67</td>\n",
       "      <td>40</td>\n",
       "      <td>175</td>\n",
       "      <td>https://twitter.com/chinaorgcn/status/12441329...</td>\n",
       "      <td>China</td>\n",
       "    </tr>\n",
       "    <tr>\n",
       "      <th>4</th>\n",
       "      <td>1244126977126105089</td>\n",
       "      <td>2020-03-29</td>\n",
       "      <td>2020-03-30 01:59:20</td>\n",
       "      <td>chinaorgcn</td>\n",
       "      <td>Normal life in Wuhan gradually resumes  https:...</td>\n",
       "      <td>9</td>\n",
       "      <td>21</td>\n",
       "      <td>67</td>\n",
       "      <td>https://twitter.com/chinaorgcn/status/12441269...</td>\n",
       "      <td>China</td>\n",
       "    </tr>\n",
       "  </tbody>\n",
       "</table>\n",
       "</div>"
      ],
      "text/plain": [
       "                    id   datestamp           timestamp    username  \\\n",
       "0  1244502032523771904  2020-03-30 2020-03-30 02:49:40  chinaorgcn   \n",
       "1  1244475851900465152  2020-03-30 2020-03-30 01:05:38  chinaorgcn   \n",
       "2  1244445883879456768  2020-03-29 2020-03-30 23:06:34  chinaorgcn   \n",
       "3  1244132958740475905  2020-03-29 2020-03-30 02:23:06  chinaorgcn   \n",
       "4  1244126977126105089  2020-03-29 2020-03-30 01:59:20  chinaorgcn   \n",
       "\n",
       "                                               tweet  replies_count  \\\n",
       "0  [Video] Cloisonné - The 'Blue Jewel' in the ro...              1   \n",
       "1  Opinion: Political considerations behind US co...              2   \n",
       "2  Small businesses in Beijing seek to adapt amid...              2   \n",
       "3  Wuhan deserves to be on the tourist bucket lis...             67   \n",
       "4  Normal life in Wuhan gradually resumes  https:...              9   \n",
       "\n",
       "   retweets_count  likes_count  \\\n",
       "0               1            8   \n",
       "1               2           10   \n",
       "2               6           32   \n",
       "3              40          175   \n",
       "4              21           67   \n",
       "\n",
       "                                                 url country  \n",
       "0  https://twitter.com/chinaorgcn/status/12445020...   China  \n",
       "1  https://twitter.com/chinaorgcn/status/12444758...   China  \n",
       "2  https://twitter.com/chinaorgcn/status/12444458...   China  \n",
       "3  https://twitter.com/chinaorgcn/status/12441329...   China  \n",
       "4  https://twitter.com/chinaorgcn/status/12441269...   China  "
      ]
     },
     "execution_count": 51,
     "metadata": {},
     "output_type": "execute_result"
    }
   ],
   "source": [
    "df.head()"
   ]
  },
  {
   "cell_type": "code",
   "execution_count": null,
   "metadata": {},
   "outputs": [],
   "source": []
  },
  {
   "cell_type": "code",
   "execution_count": null,
   "metadata": {},
   "outputs": [],
   "source": []
  }
 ],
 "metadata": {
  "kernelspec": {
   "display_name": "Python [conda env:covid]",
   "language": "python",
   "name": "conda-env-covid-py"
  },
  "language_info": {
   "codemirror_mode": {
    "name": "ipython",
    "version": 3
   },
   "file_extension": ".py",
   "mimetype": "text/x-python",
   "name": "python",
   "nbconvert_exporter": "python",
   "pygments_lexer": "ipython3",
   "version": "3.6.10"
  }
 },
 "nbformat": 4,
 "nbformat_minor": 4
}
