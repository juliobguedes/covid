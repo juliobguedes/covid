{
 "cells": [
  {
   "cell_type": "code",
   "execution_count": 1,
   "metadata": {},
   "outputs": [],
   "source": [
    "import numpy as np\n",
    "import pandas as pd\n",
    "import os, sys"
   ]
  },
  {
   "cell_type": "code",
   "execution_count": 2,
   "metadata": {},
   "outputs": [],
   "source": [
    "input_path = '../data/twitter_data'\n",
    "output_path = '../data/twitter_filtered'"
   ]
  },
  {
   "cell_type": "code",
   "execution_count": 3,
   "metadata": {},
   "outputs": [],
   "source": [
    "def score(row):\n",
    "    rts, reps, likes = map(float, [row['retweets_count'], row['replies_count'], row['likes_count']])\n",
    "    rts = rts if rts != np.nan else 0\n",
    "    reps = reps if reps != np.nan else 0\n",
    "    likes = likes if likes != np.nan else 0\n",
    "    score = 5 * rts + 4 * reps * 3 * likes\n",
    "    row['score'] = score\n",
    "    return row"
   ]
  },
  {
   "cell_type": "code",
   "execution_count": 4,
   "metadata": {},
   "outputs": [],
   "source": [
    "def covid_related(row):\n",
    "    related = False\n",
    "    keywords = ['covid', 'covid19', 'covid-19', 'virus',\n",
    "                'quarentena', 'quarantine', 'quarantena',\n",
    "                'corona', 'corona19', 'corona virus',\n",
    "                'coronavirus', 'coronavírus', 'coronavirus19',\n",
    "                'coronavírus19', 'positive', 'positivi',\n",
    "                'positivo', 'positives', 'positivos',\n",
    "                'cases', 'casos', 'caso', 'coronabond']\n",
    "    for keyword in keywords:\n",
    "        c = keyword in row['tweet'].lower()\n",
    "        related = related or c\n",
    "    row['related'] = related\n",
    "    return row"
   ]
  },
  {
   "cell_type": "code",
   "execution_count": 5,
   "metadata": {},
   "outputs": [],
   "source": [
    "total_related = 0\n",
    "total_unrelated = 0"
   ]
  },
  {
   "cell_type": "code",
   "execution_count": 7,
   "metadata": {},
   "outputs": [
    {
     "name": "stdout",
     "output_type": "stream",
     "text": [
      "Italy_virgilio_it.tsv 0.5625 0.4375\n",
      "UK_BBCNews.tsv 0.2969529085872576 0.7030470914127424\n",
      "UK_Telegraph.tsv 0.4001850138760407 0.5998149861239593\n",
      "UK_guardian.tsv 0.2611497248769186 0.7388502751230813\n",
      "China_ChinaDaily.tsv 0.6172640819312363 0.3827359180687637\n",
      "Italy_repubblica.tsv 0.12805320435308343 0.8719467956469166\n",
      "Brazil_Estadao.tsv 0.24898045779213127 0.7510195422078687\n",
      "US_nytimes.tsv 0.30868993545302414 0.6913100645469759\n",
      "Brazil_JornalOGlobo.tsv 0.20886958810369785 0.7911304118963022\n",
      "Brazil_JornaldoBrasil.tsv 0.2087912087912088 0.7912087912087912\n",
      "Italy_Corriere.tsv 0.17814551169455486 0.8218544883054452\n",
      "China_PDChina.tsv 0.6241379310344828 0.3758620689655172\n",
      "Italy_Libero_official.tsv 0.6443747823058168 0.3556252176941832\n",
      "US_huffpost.tsv 0.27516907285721137 0.7248309271427886\n",
      "US_cnn.tsv 0.33731060606060603 0.662689393939394\n",
      "China_chinaorgcn.tsv 0.601145038167939 0.3988549618320611\n",
      "US_FoxNews.tsv 0.27673406950619056 0.7232659304938095\n",
      "China_shanghaidaily.tsv 0.8579418344519015 0.14205816554809844\n",
      "Brazil_folha.tsv 0.25273180020506814 0.7472681997949319\n",
      "UK_MailOnline.tsv 0.4189302716325959 0.5810697283674041\n",
      "Brazil_g1.tsv 0.26655629139072845 0.7334437086092715\n"
     ]
    }
   ],
   "source": [
    "maindf = pd.DataFrame()\n",
    "\n",
    "for filename in os.listdir(input_path):\n",
    "    if (filename == 'China_chinaorgcn.tsv'):\n",
    "        df = pd.read_json(f'{input_path}/{filename}')\n",
    "    else:\n",
    "        df = pd.read_csv(f'{input_path}/{filename}', sep='\\t', engine='python')\n",
    "    df = df.apply(score, axis=1)\n",
    "    df = df.apply(covid_related, axis=1)\n",
    "    \n",
    "    maindf = pd.concat([maindf, df], ignore_index=True).reset_index(drop=True)\n",
    "    \n",
    "    related = len(df[df['related']].reset_index(drop=True))\n",
    "    total_related += related / len(df)\n",
    "    \n",
    "    unrelated = len(df[~df['related']].reset_index(drop=True))\n",
    "    total_unrelated = unrelated / len(df)\n",
    "\n",
    "    print(filename, related / len(df), unrelated / len(df))"
   ]
  },
  {
   "cell_type": "code",
   "execution_count": 8,
   "metadata": {},
   "outputs": [
    {
     "name": "stdout",
     "output_type": "stream",
     "text": [
      "Avg Related 0.3797434920510331 ; Avg Unrelated 0.03492589088615579\n"
     ]
    }
   ],
   "source": [
    "nfiles = len(os.listdir(input_path))\n",
    "print('Avg Related', total_related / nfiles, '; Avg Unrelated', total_unrelated / nfiles)"
   ]
  },
  {
   "cell_type": "code",
   "execution_count": 9,
   "metadata": {},
   "outputs": [
    {
     "data": {
      "text/html": [
       "<div>\n",
       "<style scoped>\n",
       "    .dataframe tbody tr th:only-of-type {\n",
       "        vertical-align: middle;\n",
       "    }\n",
       "\n",
       "    .dataframe tbody tr th {\n",
       "        vertical-align: top;\n",
       "    }\n",
       "\n",
       "    .dataframe thead th {\n",
       "        text-align: right;\n",
       "    }\n",
       "</style>\n",
       "<table border=\"1\" class=\"dataframe\">\n",
       "  <thead>\n",
       "    <tr style=\"text-align: right;\">\n",
       "      <th></th>\n",
       "      <th>id</th>\n",
       "      <th>datestamp</th>\n",
       "      <th>timestamp</th>\n",
       "      <th>username</th>\n",
       "      <th>tweet</th>\n",
       "      <th>replies_count</th>\n",
       "      <th>retweets_count</th>\n",
       "      <th>likes_count</th>\n",
       "      <th>url</th>\n",
       "      <th>country</th>\n",
       "      <th>score</th>\n",
       "      <th>related</th>\n",
       "    </tr>\n",
       "  </thead>\n",
       "  <tbody>\n",
       "    <tr>\n",
       "      <th>0</th>\n",
       "      <td>1243199622933348353</td>\n",
       "      <td>2020-03-26</td>\n",
       "      <td>12:34:22</td>\n",
       "      <td>virgilio_it</td>\n",
       "      <td>📰🎙 #Notizie #Curiosità #SaluteeBenessere 🛀💉\\nI...</td>\n",
       "      <td>0</td>\n",
       "      <td>0</td>\n",
       "      <td>0</td>\n",
       "      <td>https://twitter.com/virgilio_it/status/1243199...</td>\n",
       "      <td>Italy</td>\n",
       "      <td>0.0</td>\n",
       "      <td>True</td>\n",
       "    </tr>\n",
       "    <tr>\n",
       "      <th>2</th>\n",
       "      <td>1242882313115127808</td>\n",
       "      <td>2020-03-25</td>\n",
       "      <td>15:33:29</td>\n",
       "      <td>virgilio_it</td>\n",
       "      <td>📰🎙 #Notizie #Curiosità #SaluteeBenessere 🛀💉\\nI...</td>\n",
       "      <td>0</td>\n",
       "      <td>1</td>\n",
       "      <td>0</td>\n",
       "      <td>https://twitter.com/virgilio_it/status/1242882...</td>\n",
       "      <td>Italy</td>\n",
       "      <td>5.0</td>\n",
       "      <td>True</td>\n",
       "    </tr>\n",
       "    <tr>\n",
       "      <th>3</th>\n",
       "      <td>1242843309099364352</td>\n",
       "      <td>2020-03-25</td>\n",
       "      <td>12:58:30</td>\n",
       "      <td>virgilio_it</td>\n",
       "      <td>📰🎙 #Notizie #Curiosità #SaluteeBenessere 🛀💉\\n#...</td>\n",
       "      <td>0</td>\n",
       "      <td>0</td>\n",
       "      <td>0</td>\n",
       "      <td>https://twitter.com/virgilio_it/status/1242843...</td>\n",
       "      <td>Italy</td>\n",
       "      <td>0.0</td>\n",
       "      <td>True</td>\n",
       "    </tr>\n",
       "    <tr>\n",
       "      <th>5</th>\n",
       "      <td>1242434278476087298</td>\n",
       "      <td>2020-03-24</td>\n",
       "      <td>09:53:09</td>\n",
       "      <td>virgilio_it</td>\n",
       "      <td>📰🎙 #Notizie #Curiosità #SaluteeBenessere 🛀💉\\n#...</td>\n",
       "      <td>1</td>\n",
       "      <td>0</td>\n",
       "      <td>0</td>\n",
       "      <td>https://twitter.com/virgilio_it/status/1242434...</td>\n",
       "      <td>Italy</td>\n",
       "      <td>0.0</td>\n",
       "      <td>True</td>\n",
       "    </tr>\n",
       "    <tr>\n",
       "      <th>6</th>\n",
       "      <td>1242431161323982851</td>\n",
       "      <td>2020-03-24</td>\n",
       "      <td>09:40:46</td>\n",
       "      <td>virgilio_it</td>\n",
       "      <td>📰🎙 #Notizie #Curiosità #InItalia 🇮🇹 🌍\\nUna dis...</td>\n",
       "      <td>0</td>\n",
       "      <td>0</td>\n",
       "      <td>0</td>\n",
       "      <td>https://twitter.com/virgilio_it/status/1242431...</td>\n",
       "      <td>Italy</td>\n",
       "      <td>0.0</td>\n",
       "      <td>True</td>\n",
       "    </tr>\n",
       "  </tbody>\n",
       "</table>\n",
       "</div>"
      ],
      "text/plain": [
       "                    id   datestamp timestamp     username  \\\n",
       "0  1243199622933348353  2020-03-26  12:34:22  virgilio_it   \n",
       "2  1242882313115127808  2020-03-25  15:33:29  virgilio_it   \n",
       "3  1242843309099364352  2020-03-25  12:58:30  virgilio_it   \n",
       "5  1242434278476087298  2020-03-24  09:53:09  virgilio_it   \n",
       "6  1242431161323982851  2020-03-24  09:40:46  virgilio_it   \n",
       "\n",
       "                                               tweet  replies_count  \\\n",
       "0  📰🎙 #Notizie #Curiosità #SaluteeBenessere 🛀💉\\nI...              0   \n",
       "2  📰🎙 #Notizie #Curiosità #SaluteeBenessere 🛀💉\\nI...              0   \n",
       "3  📰🎙 #Notizie #Curiosità #SaluteeBenessere 🛀💉\\n#...              0   \n",
       "5  📰🎙 #Notizie #Curiosità #SaluteeBenessere 🛀💉\\n#...              1   \n",
       "6  📰🎙 #Notizie #Curiosità #InItalia 🇮🇹 🌍\\nUna dis...              0   \n",
       "\n",
       "   retweets_count  likes_count  \\\n",
       "0               0            0   \n",
       "2               1            0   \n",
       "3               0            0   \n",
       "5               0            0   \n",
       "6               0            0   \n",
       "\n",
       "                                                 url country  score  related  \n",
       "0  https://twitter.com/virgilio_it/status/1243199...   Italy    0.0     True  \n",
       "2  https://twitter.com/virgilio_it/status/1242882...   Italy    5.0     True  \n",
       "3  https://twitter.com/virgilio_it/status/1242843...   Italy    0.0     True  \n",
       "5  https://twitter.com/virgilio_it/status/1242434...   Italy    0.0     True  \n",
       "6  https://twitter.com/virgilio_it/status/1242431...   Italy    0.0     True  "
      ]
     },
     "execution_count": 9,
     "metadata": {},
     "output_type": "execute_result"
    }
   ],
   "source": [
    "tweets_related = maindf[maindf['related']]\n",
    "tweets_related.drop('related', axis=1, inplace=True)"
   ]
  },
  {
   "cell_type": "code",
   "execution_count": 10,
   "metadata": {},
   "outputs": [],
   "source": [
    "countries = ['Brazil', 'US', 'UK', 'China', 'Italy']\n",
    "for country in countries:\n",
    "    country_df = tweets_related[tweets_related['country'] == country].reset_index(drop=True)\n",
    "    country_df.to_json(f'{output_path}/{country}.json')"
   ]
  },
  {
   "cell_type": "code",
   "execution_count": null,
   "metadata": {},
   "outputs": [],
   "source": []
  }
 ],
 "metadata": {
  "kernelspec": {
   "display_name": "Python [conda env:covid]",
   "language": "python",
   "name": "conda-env-covid-py"
  },
  "language_info": {
   "codemirror_mode": {
    "name": "ipython",
    "version": 3
   },
   "file_extension": ".py",
   "mimetype": "text/x-python",
   "name": "python",
   "nbconvert_exporter": "python",
   "pygments_lexer": "ipython3",
   "version": "3.6.10"
  }
 },
 "nbformat": 4,
 "nbformat_minor": 4
}
